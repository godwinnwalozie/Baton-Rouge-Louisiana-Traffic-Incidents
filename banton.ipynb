{
 "cells": [
  {
   "cell_type": "markdown",
   "metadata": {},
   "source": [
    "## Baton Rouge Louisiana Traffic Incidents - Legacy\n",
    "Traffic incident reports handled by Baton Rouge City Police. 2010 - 2020"
   ]
  },
  {
   "cell_type": "code",
   "execution_count": 1,
   "metadata": {},
   "outputs": [],
   "source": [
    "import pandas as pd\n",
    "import numpy as np\n",
    "import matplotlib.pyplot as plt\n",
    "import seaborn as sns\n",
    "%matplotlib inline\n",
    "sns.set_theme()\n",
    "import datetime as datetime\n",
    "import dateutil as parser\n",
    "import dython.nominal as association "
   ]
  },
  {
   "cell_type": "markdown",
   "metadata": {},
   "source": []
  },
  {
   "cell_type": "markdown",
   "metadata": {},
   "source": [
    "# Import the dataset"
   ]
  },
  {
   "cell_type": "code",
   "execution_count": 2,
   "metadata": {},
   "outputs": [
    {
     "data": {
      "text/html": [
       "<div>\n",
       "<style scoped>\n",
       "    .dataframe tbody tr th:only-of-type {\n",
       "        vertical-align: middle;\n",
       "    }\n",
       "\n",
       "    .dataframe tbody tr th {\n",
       "        vertical-align: top;\n",
       "    }\n",
       "\n",
       "    .dataframe thead th {\n",
       "        text-align: right;\n",
       "    }\n",
       "</style>\n",
       "<table border=\"1\" class=\"dataframe\">\n",
       "  <thead>\n",
       "    <tr style=\"text-align: right;\">\n",
       "      <th></th>\n",
       "      <th>FILE#</th>\n",
       "      <th>CRASH DATE</th>\n",
       "      <th>CRASH TIME</th>\n",
       "      <th>TOT VEH</th>\n",
       "      <th>DISTRICT</th>\n",
       "      <th>ZONE</th>\n",
       "      <th>SUBZONE</th>\n",
       "      <th>STREET#</th>\n",
       "      <th>STREET DIRECTION</th>\n",
       "      <th>STREET NAME</th>\n",
       "      <th>...</th>\n",
       "      <th>ROAD TYPE</th>\n",
       "      <th>ALIGNMENT</th>\n",
       "      <th>PRIMARY FACTOR</th>\n",
       "      <th>SECOND FACTOR</th>\n",
       "      <th>WEATHER</th>\n",
       "      <th>LOCATION KIND</th>\n",
       "      <th>RELATION ROADWAY</th>\n",
       "      <th>ACCESS CONTROL</th>\n",
       "      <th>LIGHTING</th>\n",
       "      <th>GEOLOCATION</th>\n",
       "    </tr>\n",
       "  </thead>\n",
       "  <tbody>\n",
       "    <tr>\n",
       "      <th>0</th>\n",
       "      <td>17-00010877</td>\n",
       "      <td>08/04/2017</td>\n",
       "      <td>07:36 AM</td>\n",
       "      <td>2</td>\n",
       "      <td>1</td>\n",
       "      <td>A</td>\n",
       "      <td>1</td>\n",
       "      <td>500.0</td>\n",
       "      <td>NaN</td>\n",
       "      <td>I110</td>\n",
       "      <td>...</td>\n",
       "      <td>ONE-WAY ROAD</td>\n",
       "      <td>STRAIGHT-LEVEL</td>\n",
       "      <td>CONDITION OF DRIVER</td>\n",
       "      <td>NaN</td>\n",
       "      <td>CLEAR</td>\n",
       "      <td>OTHER</td>\n",
       "      <td>ON ROADWAY</td>\n",
       "      <td>NO CONTROL (UNLIMITED ACCESS TO ROADWAY)</td>\n",
       "      <td>DAYLIGHT</td>\n",
       "      <td>500 I110\\nBATON ROUGE, LA</td>\n",
       "    </tr>\n",
       "    <tr>\n",
       "      <th>1</th>\n",
       "      <td>17-00011507</td>\n",
       "      <td>08/16/2017</td>\n",
       "      <td>04:59 PM</td>\n",
       "      <td>2</td>\n",
       "      <td>2</td>\n",
       "      <td>B</td>\n",
       "      <td>2</td>\n",
       "      <td>800.0</td>\n",
       "      <td>W</td>\n",
       "      <td>I10</td>\n",
       "      <td>...</td>\n",
       "      <td>OTHER</td>\n",
       "      <td>STRAIGHT-LEVEL</td>\n",
       "      <td>VIOLATIONS</td>\n",
       "      <td>NaN</td>\n",
       "      <td>CLEAR</td>\n",
       "      <td>OTHER</td>\n",
       "      <td>ON ROADWAY</td>\n",
       "      <td>NO CONTROL (UNLIMITED ACCESS TO ROADWAY)</td>\n",
       "      <td>DAYLIGHT</td>\n",
       "      <td>800 W I10 HW\\nBATON ROUGE, LA</td>\n",
       "    </tr>\n",
       "    <tr>\n",
       "      <th>2</th>\n",
       "      <td>17-00005091</td>\n",
       "      <td>03/31/2017</td>\n",
       "      <td>10:51 AM</td>\n",
       "      <td>1</td>\n",
       "      <td>2</td>\n",
       "      <td>B</td>\n",
       "      <td>5</td>\n",
       "      <td>NaN</td>\n",
       "      <td>NaN</td>\n",
       "      <td>PERKINS</td>\n",
       "      <td>...</td>\n",
       "      <td>OTHER</td>\n",
       "      <td>STRAIGHT-LEVEL</td>\n",
       "      <td>VIOLATIONS</td>\n",
       "      <td>NaN</td>\n",
       "      <td>CLEAR</td>\n",
       "      <td>OTHER</td>\n",
       "      <td>OTHER</td>\n",
       "      <td>OTHER</td>\n",
       "      <td>DAYLIGHT</td>\n",
       "      <td>PERKINS\\nBATON ROUGE, LA</td>\n",
       "    </tr>\n",
       "  </tbody>\n",
       "</table>\n",
       "<p>3 rows × 34 columns</p>\n",
       "</div>"
      ],
      "text/plain": [
       "         FILE#  CRASH DATE CRASH TIME  TOT VEH DISTRICT ZONE SUBZONE  STREET#  \\\n",
       "0  17-00010877  08/04/2017   07:36 AM        2        1    A       1    500.0   \n",
       "1  17-00011507  08/16/2017   04:59 PM        2        2    B       2    800.0   \n",
       "2  17-00005091  03/31/2017   10:51 AM        1        2    B       5      NaN   \n",
       "\n",
       "  STREET DIRECTION STREET NAME  ...     ROAD TYPE       ALIGNMENT  \\\n",
       "0              NaN        I110  ...  ONE-WAY ROAD  STRAIGHT-LEVEL   \n",
       "1                W         I10  ...         OTHER  STRAIGHT-LEVEL   \n",
       "2              NaN     PERKINS  ...         OTHER  STRAIGHT-LEVEL   \n",
       "\n",
       "        PRIMARY FACTOR SECOND FACTOR WEATHER LOCATION KIND RELATION ROADWAY  \\\n",
       "0  CONDITION OF DRIVER           NaN   CLEAR         OTHER       ON ROADWAY   \n",
       "1           VIOLATIONS           NaN   CLEAR         OTHER       ON ROADWAY   \n",
       "2           VIOLATIONS           NaN   CLEAR         OTHER            OTHER   \n",
       "\n",
       "                             ACCESS CONTROL  LIGHTING  \\\n",
       "0  NO CONTROL (UNLIMITED ACCESS TO ROADWAY)  DAYLIGHT   \n",
       "1  NO CONTROL (UNLIMITED ACCESS TO ROADWAY)  DAYLIGHT   \n",
       "2                                     OTHER  DAYLIGHT   \n",
       "\n",
       "                     GEOLOCATION  \n",
       "0      500 I110\\nBATON ROUGE, LA  \n",
       "1  800 W I10 HW\\nBATON ROUGE, LA  \n",
       "2       PERKINS\\nBATON ROUGE, LA  \n",
       "\n",
       "[3 rows x 34 columns]"
      ]
     },
     "execution_count": 2,
     "metadata": {},
     "output_type": "execute_result"
    }
   ],
   "source": [
    "df = pd.read_csv(\"Legacy_Baton_Rouge_Traffic_Incidents.csv\")\n",
    "df.head(3)"
   ]
  },
  {
   "cell_type": "code",
   "execution_count": 3,
   "metadata": {},
   "outputs": [
    {
     "name": "stdout",
     "output_type": "stream",
     "text": [
      "(177119, 34)\n",
      "\n",
      "<class 'pandas.core.frame.DataFrame'>\n",
      "RangeIndex: 177119 entries, 0 to 177118\n",
      "Data columns (total 34 columns):\n",
      " #   Column               Non-Null Count   Dtype  \n",
      "---  ------               --------------   -----  \n",
      " 0   FILE#                177119 non-null  object \n",
      " 1   CRASH DATE           177119 non-null  object \n",
      " 2   CRASH TIME           177119 non-null  object \n",
      " 3   TOT VEH              177119 non-null  int64  \n",
      " 4   DISTRICT             177101 non-null  object \n",
      " 5   ZONE                 175299 non-null  object \n",
      " 6   SUBZONE              174207 non-null  object \n",
      " 7   STREET#              175072 non-null  float64\n",
      " 8   STREET DIRECTION     50299 non-null   object \n",
      " 9   STREET NAME          177119 non-null  object \n",
      " 10  STREET TYPE          142014 non-null  object \n",
      " 11  FORMATTED STREET     177119 non-null  object \n",
      " 12  OCCURED ON           177119 non-null  object \n",
      " 13  HIT&RUN              32937 non-null   object \n",
      " 14  TRAIN INVOLVED       74 non-null      object \n",
      " 15  FATALITY             286 non-null     object \n",
      " 16  INJURY               17067 non-null   object \n",
      " 17  PEDESTRIAN           1041 non-null    object \n",
      " 18  AT INTERSECTION      66330 non-null   object \n",
      " 19  CLOSEST STREET       165883 non-null  object \n",
      " 20  MANNER OF COLLISION  176902 non-null  object \n",
      " 21  SURFACE CONDITION    177119 non-null  object \n",
      " 22  SURFACE TYPE         177119 non-null  object \n",
      " 23  ROAD CONDITION       177119 non-null  object \n",
      " 24  ROAD TYPE            177119 non-null  object \n",
      " 25  ALIGNMENT            177119 non-null  object \n",
      " 26  PRIMARY FACTOR       177119 non-null  object \n",
      " 27  SECOND FACTOR        67116 non-null   object \n",
      " 28  WEATHER              177119 non-null  object \n",
      " 29  LOCATION KIND        177119 non-null  object \n",
      " 30  RELATION ROADWAY     177119 non-null  object \n",
      " 31  ACCESS CONTROL       177119 non-null  object \n",
      " 32  LIGHTING             177119 non-null  object \n",
      " 33  GEOLOCATION          177119 non-null  object \n",
      "dtypes: float64(1), int64(1), object(32)\n",
      "memory usage: 45.9+ MB\n",
      "None\n"
     ]
    }
   ],
   "source": [
    "print(df.shape)\n",
    "print()\n",
    "print(df.info())"
   ]
  },
  {
   "cell_type": "markdown",
   "metadata": {},
   "source": [
    "# Lets convert the dates which are in object to datetime"
   ]
  },
  {
   "cell_type": "markdown",
   "metadata": {},
   "source": [
    "## I would like to convert the column name to lower case, just for convinience"
   ]
  },
  {
   "cell_type": "code",
   "execution_count": 4,
   "metadata": {},
   "outputs": [
    {
     "name": "stdout",
     "output_type": "stream",
     "text": [
      "['file#', 'crash date', 'crash time', 'tot veh', 'district', 'zone', 'subzone', 'street#', 'street direction', 'street name', 'street type', 'formatted street', 'occured on', 'hit&run', 'train involved', 'fatality', 'injury', 'pedestrian', 'at intersection', 'closest street', 'manner of collision', 'surface condition', 'surface type', 'road condition', 'road type', 'alignment', 'primary factor', 'second factor', 'weather', 'location kind', 'relation roadway', 'access control', 'lighting', 'geolocation']\n"
     ]
    }
   ],
   "source": [
    "columns = df.columns\n",
    "lower =[]\n",
    "for col in columns:\n",
    "    lower.append(col.lower())\n",
    "print(lower)"
   ]
  },
  {
   "cell_type": "code",
   "execution_count": 5,
   "metadata": {},
   "outputs": [
    {
     "data": {
      "text/html": [
       "<div>\n",
       "<style scoped>\n",
       "    .dataframe tbody tr th:only-of-type {\n",
       "        vertical-align: middle;\n",
       "    }\n",
       "\n",
       "    .dataframe tbody tr th {\n",
       "        vertical-align: top;\n",
       "    }\n",
       "\n",
       "    .dataframe thead th {\n",
       "        text-align: right;\n",
       "    }\n",
       "</style>\n",
       "<table border=\"1\" class=\"dataframe\">\n",
       "  <thead>\n",
       "    <tr style=\"text-align: right;\">\n",
       "      <th></th>\n",
       "      <th>file#</th>\n",
       "      <th>crash date</th>\n",
       "      <th>crash time</th>\n",
       "      <th>tot veh</th>\n",
       "      <th>district</th>\n",
       "      <th>zone</th>\n",
       "      <th>subzone</th>\n",
       "      <th>street#</th>\n",
       "      <th>street direction</th>\n",
       "      <th>street name</th>\n",
       "      <th>...</th>\n",
       "      <th>road type</th>\n",
       "      <th>alignment</th>\n",
       "      <th>primary factor</th>\n",
       "      <th>second factor</th>\n",
       "      <th>weather</th>\n",
       "      <th>location kind</th>\n",
       "      <th>relation roadway</th>\n",
       "      <th>access control</th>\n",
       "      <th>lighting</th>\n",
       "      <th>geolocation</th>\n",
       "    </tr>\n",
       "  </thead>\n",
       "  <tbody>\n",
       "    <tr>\n",
       "      <th>0</th>\n",
       "      <td>17-00010877</td>\n",
       "      <td>08/04/2017</td>\n",
       "      <td>07:36 AM</td>\n",
       "      <td>2</td>\n",
       "      <td>1</td>\n",
       "      <td>A</td>\n",
       "      <td>1</td>\n",
       "      <td>500.0</td>\n",
       "      <td>NaN</td>\n",
       "      <td>I110</td>\n",
       "      <td>...</td>\n",
       "      <td>ONE-WAY ROAD</td>\n",
       "      <td>STRAIGHT-LEVEL</td>\n",
       "      <td>CONDITION OF DRIVER</td>\n",
       "      <td>NaN</td>\n",
       "      <td>CLEAR</td>\n",
       "      <td>OTHER</td>\n",
       "      <td>ON ROADWAY</td>\n",
       "      <td>NO CONTROL (UNLIMITED ACCESS TO ROADWAY)</td>\n",
       "      <td>DAYLIGHT</td>\n",
       "      <td>500 I110\\nBATON ROUGE, LA</td>\n",
       "    </tr>\n",
       "    <tr>\n",
       "      <th>1</th>\n",
       "      <td>17-00011507</td>\n",
       "      <td>08/16/2017</td>\n",
       "      <td>04:59 PM</td>\n",
       "      <td>2</td>\n",
       "      <td>2</td>\n",
       "      <td>B</td>\n",
       "      <td>2</td>\n",
       "      <td>800.0</td>\n",
       "      <td>W</td>\n",
       "      <td>I10</td>\n",
       "      <td>...</td>\n",
       "      <td>OTHER</td>\n",
       "      <td>STRAIGHT-LEVEL</td>\n",
       "      <td>VIOLATIONS</td>\n",
       "      <td>NaN</td>\n",
       "      <td>CLEAR</td>\n",
       "      <td>OTHER</td>\n",
       "      <td>ON ROADWAY</td>\n",
       "      <td>NO CONTROL (UNLIMITED ACCESS TO ROADWAY)</td>\n",
       "      <td>DAYLIGHT</td>\n",
       "      <td>800 W I10 HW\\nBATON ROUGE, LA</td>\n",
       "    </tr>\n",
       "    <tr>\n",
       "      <th>2</th>\n",
       "      <td>17-00005091</td>\n",
       "      <td>03/31/2017</td>\n",
       "      <td>10:51 AM</td>\n",
       "      <td>1</td>\n",
       "      <td>2</td>\n",
       "      <td>B</td>\n",
       "      <td>5</td>\n",
       "      <td>NaN</td>\n",
       "      <td>NaN</td>\n",
       "      <td>PERKINS</td>\n",
       "      <td>...</td>\n",
       "      <td>OTHER</td>\n",
       "      <td>STRAIGHT-LEVEL</td>\n",
       "      <td>VIOLATIONS</td>\n",
       "      <td>NaN</td>\n",
       "      <td>CLEAR</td>\n",
       "      <td>OTHER</td>\n",
       "      <td>OTHER</td>\n",
       "      <td>OTHER</td>\n",
       "      <td>DAYLIGHT</td>\n",
       "      <td>PERKINS\\nBATON ROUGE, LA</td>\n",
       "    </tr>\n",
       "  </tbody>\n",
       "</table>\n",
       "<p>3 rows × 34 columns</p>\n",
       "</div>"
      ],
      "text/plain": [
       "         file#  crash date crash time  tot veh district zone subzone  street#  \\\n",
       "0  17-00010877  08/04/2017   07:36 AM        2        1    A       1    500.0   \n",
       "1  17-00011507  08/16/2017   04:59 PM        2        2    B       2    800.0   \n",
       "2  17-00005091  03/31/2017   10:51 AM        1        2    B       5      NaN   \n",
       "\n",
       "  street direction street name  ...     road type       alignment  \\\n",
       "0              NaN        I110  ...  ONE-WAY ROAD  STRAIGHT-LEVEL   \n",
       "1                W         I10  ...         OTHER  STRAIGHT-LEVEL   \n",
       "2              NaN     PERKINS  ...         OTHER  STRAIGHT-LEVEL   \n",
       "\n",
       "        primary factor second factor weather location kind relation roadway  \\\n",
       "0  CONDITION OF DRIVER           NaN   CLEAR         OTHER       ON ROADWAY   \n",
       "1           VIOLATIONS           NaN   CLEAR         OTHER       ON ROADWAY   \n",
       "2           VIOLATIONS           NaN   CLEAR         OTHER            OTHER   \n",
       "\n",
       "                             access control  lighting  \\\n",
       "0  NO CONTROL (UNLIMITED ACCESS TO ROADWAY)  DAYLIGHT   \n",
       "1  NO CONTROL (UNLIMITED ACCESS TO ROADWAY)  DAYLIGHT   \n",
       "2                                     OTHER  DAYLIGHT   \n",
       "\n",
       "                     geolocation  \n",
       "0      500 I110\\nBATON ROUGE, LA  \n",
       "1  800 W I10 HW\\nBATON ROUGE, LA  \n",
       "2       PERKINS\\nBATON ROUGE, LA  \n",
       "\n",
       "[3 rows x 34 columns]"
      ]
     },
     "execution_count": 5,
     "metadata": {},
     "output_type": "execute_result"
    }
   ],
   "source": [
    "# Assigning the new columns of lower case letters\n",
    "df.columns = lower\n",
    "df.head(3)"
   ]
  },
  {
   "cell_type": "markdown",
   "metadata": {},
   "source": [
    "# Conduct some exploratory data analysis"
   ]
  },
  {
   "cell_type": "markdown",
   "metadata": {},
   "source": [
    "## check NA values"
   ]
  },
  {
   "cell_type": "code",
   "execution_count": 6,
   "metadata": {},
   "outputs": [
    {
     "data": {
      "text/plain": [
       "file#                       0\n",
       "crash date                  0\n",
       "crash time                  0\n",
       "tot veh                     0\n",
       "district                   18\n",
       "zone                     1820\n",
       "subzone                  2912\n",
       "street#                  2047\n",
       "street direction       126820\n",
       "street name                 0\n",
       "street type             35105\n",
       "formatted street            0\n",
       "occured on                  0\n",
       "hit&run                144182\n",
       "train involved         177045\n",
       "fatality               176833\n",
       "injury                 160052\n",
       "pedestrian             176078\n",
       "at intersection        110789\n",
       "closest street          11236\n",
       "manner of collision       217\n",
       "surface condition           0\n",
       "surface type                0\n",
       "road condition              0\n",
       "road type                   0\n",
       "alignment                   0\n",
       "primary factor              0\n",
       "second factor          110003\n",
       "weather                     0\n",
       "location kind               0\n",
       "relation roadway            0\n",
       "access control              0\n",
       "lighting                    0\n",
       "geolocation                 0\n",
       "dtype: int64"
      ]
     },
     "execution_count": 6,
     "metadata": {},
     "output_type": "execute_result"
    }
   ],
   "source": [
    "df.isna().sum()"
   ]
  },
  {
   "cell_type": "markdown",
   "metadata": {},
   "source": [
    "df.dropna(how = 'any', axis =1)\n",
    "# reassign to df\n",
    "df =df.dropna(how = 'any', axis =1)\n",
    "df.shape"
   ]
  },
  {
   "cell_type": "code",
   "execution_count": 7,
   "metadata": {},
   "outputs": [
    {
     "data": {
      "text/plain": [
       "Index(['file#', 'crash date', 'crash time', 'tot veh', 'district', 'zone',\n",
       "       'subzone', 'street#', 'street direction', 'street name', 'street type',\n",
       "       'formatted street', 'occured on', 'hit&run', 'train involved',\n",
       "       'fatality', 'injury', 'pedestrian', 'at intersection', 'closest street',\n",
       "       'manner of collision', 'surface condition', 'surface type',\n",
       "       'road condition', 'road type', 'alignment', 'primary factor',\n",
       "       'second factor', 'weather', 'location kind', 'relation roadway',\n",
       "       'access control', 'lighting', 'geolocation'],\n",
       "      dtype='object')"
      ]
     },
     "execution_count": 7,
     "metadata": {},
     "output_type": "execute_result"
    }
   ],
   "source": [
    "df.columns"
   ]
  },
  {
   "cell_type": "markdown",
   "metadata": {},
   "source": [
    "# Lets examine the incidents and weather"
   ]
  },
  {
   "cell_type": "code",
   "execution_count": 8,
   "metadata": {},
   "outputs": [
    {
     "data": {
      "text/plain": [
       "<AxesSubplot:xlabel='weather', ylabel='index'>"
      ]
     },
     "execution_count": 8,
     "metadata": {},
     "output_type": "execute_result"
    },
    {
     "data": {
      "image/png": "[encoded data removed]",
      "text/plain": [
       "<Figure size 1008x432 with 1 Axes>"
      ]
     },
     "metadata": {},
     "output_type": "display_data"
    }
   ],
   "source": [
    "df_w = df[\"weather\"].value_counts().reset_index()\n",
    "fig,ax =plt.subplots(figsize = (14,6))\n",
    "sns.barplot(data = df_w, y ='index',x=\"weather\")"
   ]
  },
  {
   "cell_type": "markdown",
   "metadata": {},
   "source": [
    "# Year with most registered crash"
   ]
  },
  {
   "cell_type": "code",
   "execution_count": 9,
   "metadata": {},
   "outputs": [],
   "source": [
    "df[\"crash date\"] = pd.to_datetime(df[\"crash date\"])\n",
    "df[\"crash time\"] = pd.to_datetime(df[\"crash time\"])"
   ]
  },
  {
   "cell_type": "code",
   "execution_count": null,
   "metadata": {},
   "outputs": [
    {
     "data": {
      "text/plain": [
       "[Text(0.5, 0, 'year'), Text(0, 0.5, 'count ')]"
      ]
     },
     "execution_count": 10,
     "metadata": {},
     "output_type": "execute_result"
    },
    {
     "data": {
      "image/png": "[encoded data removed]",
      "text/plain": [
       "<Figure size 1008x360 with 1 Axes>"
      ]
     },
     "metadata": {},
     "output_type": "display_data"
    }
   ],
   "source": [
    "df_d = df[\"crash date\"].dt.year.value_counts().reset_index()\n",
    "fig,ax =plt.subplots(figsize = (14,5))\n",
    "sns.barplot(data = df_d, x = 'index', y = \"crash date\")\n",
    "ax.axhline(df_d.values.mean(), color='red', linestyle='-')\n",
    "ax.set(xlabel =\"year\", ylabel= \"count \")"
   ]
  },
  {
   "cell_type": "code",
   "execution_count": null,
   "metadata": {},
   "outputs": [
    {
     "data": {
      "text/html": [
       "<div>\n",
       "<style scoped>\n",
       "    .dataframe tbody tr th:only-of-type {\n",
       "        vertical-align: middle;\n",
       "    }\n",
       "\n",
       "    .dataframe tbody tr th {\n",
       "        vertical-align: top;\n",
       "    }\n",
       "\n",
       "    .dataframe thead th {\n",
       "        text-align: right;\n",
       "    }\n",
       "</style>\n",
       "<table border=\"1\" class=\"dataframe\">\n",
       "  <thead>\n",
       "    <tr style=\"text-align: right;\">\n",
       "      <th></th>\n",
       "      <th>index</th>\n",
       "      <th>crash date</th>\n",
       "    </tr>\n",
       "  </thead>\n",
       "  <tbody>\n",
       "    <tr>\n",
       "      <th>0</th>\n",
       "      <td>2016</td>\n",
       "      <td>19358</td>\n",
       "    </tr>\n",
       "    <tr>\n",
       "      <th>1</th>\n",
       "      <td>2017</td>\n",
       "      <td>18532</td>\n",
       "    </tr>\n",
       "    <tr>\n",
       "      <th>2</th>\n",
       "      <td>2015</td>\n",
       "      <td>17900</td>\n",
       "    </tr>\n",
       "    <tr>\n",
       "      <th>3</th>\n",
       "      <td>2018</td>\n",
       "      <td>17527</td>\n",
       "    </tr>\n",
       "    <tr>\n",
       "      <th>4</th>\n",
       "      <td>2019</td>\n",
       "      <td>16674</td>\n",
       "    </tr>\n",
       "    <tr>\n",
       "      <th>5</th>\n",
       "      <td>2014</td>\n",
       "      <td>16059</td>\n",
       "    </tr>\n",
       "    <tr>\n",
       "      <th>6</th>\n",
       "      <td>2013</td>\n",
       "      <td>15590</td>\n",
       "    </tr>\n",
       "    <tr>\n",
       "      <th>7</th>\n",
       "      <td>2012</td>\n",
       "      <td>15428</td>\n",
       "    </tr>\n",
       "    <tr>\n",
       "      <th>8</th>\n",
       "      <td>2011</td>\n",
       "      <td>15148</td>\n",
       "    </tr>\n",
       "    <tr>\n",
       "      <th>9</th>\n",
       "      <td>2020</td>\n",
       "      <td>13838</td>\n",
       "    </tr>\n",
       "    <tr>\n",
       "      <th>10</th>\n",
       "      <td>2010</td>\n",
       "      <td>11064</td>\n",
       "    </tr>\n",
       "    <tr>\n",
       "      <th>11</th>\n",
       "      <td>2021</td>\n",
       "      <td>1</td>\n",
       "    </tr>\n",
       "  </tbody>\n",
       "</table>\n",
       "</div>"
      ],
      "text/plain": [
       "    index  crash date\n",
       "0    2016       19358\n",
       "1    2017       18532\n",
       "2    2015       17900\n",
       "3    2018       17527\n",
       "4    2019       16674\n",
       "5    2014       16059\n",
       "6    2013       15590\n",
       "7    2012       15428\n",
       "8    2011       15148\n",
       "9    2020       13838\n",
       "10   2010       11064\n",
       "11   2021           1"
      ]
     },
     "execution_count": 11,
     "metadata": {},
     "output_type": "execute_result"
    }
   ],
   "source": [
    "df_d"
   ]
  },
  {
   "cell_type": "markdown",
   "metadata": {},
   "source": [
    "# How many are caused by lightening conditions"
   ]
  },
  {
   "cell_type": "code",
   "execution_count": null,
   "metadata": {},
   "outputs": [
    {
     "data": {
      "text/html": [
       "<div>\n",
       "<style scoped>\n",
       "    .dataframe tbody tr th:only-of-type {\n",
       "        vertical-align: middle;\n",
       "    }\n",
       "\n",
       "    .dataframe tbody tr th {\n",
       "        vertical-align: top;\n",
       "    }\n",
       "\n",
       "    .dataframe thead th {\n",
       "        text-align: right;\n",
       "    }\n",
       "</style>\n",
       "<table border=\"1\" class=\"dataframe\">\n",
       "  <thead>\n",
       "    <tr style=\"text-align: right;\">\n",
       "      <th></th>\n",
       "      <th>index</th>\n",
       "      <th>lighting</th>\n",
       "    </tr>\n",
       "  </thead>\n",
       "  <tbody>\n",
       "    <tr>\n",
       "      <th>0</th>\n",
       "      <td>DAYLIGHT</td>\n",
       "      <td>133346</td>\n",
       "    </tr>\n",
       "    <tr>\n",
       "      <th>1</th>\n",
       "      <td>DARK - CONTINUOUS STREET</td>\n",
       "      <td>32438</td>\n",
       "    </tr>\n",
       "    <tr>\n",
       "      <th>2</th>\n",
       "      <td>DARK - STREET LIGHT AT INTERSECTION ONLY</td>\n",
       "      <td>4005</td>\n",
       "    </tr>\n",
       "    <tr>\n",
       "      <th>3</th>\n",
       "      <td>DARK - NO STREET</td>\n",
       "      <td>2636</td>\n",
       "    </tr>\n",
       "    <tr>\n",
       "      <th>4</th>\n",
       "      <td>DUSK</td>\n",
       "      <td>1641</td>\n",
       "    </tr>\n",
       "    <tr>\n",
       "      <th>5</th>\n",
       "      <td>UNKNOWN</td>\n",
       "      <td>1614</td>\n",
       "    </tr>\n",
       "    <tr>\n",
       "      <th>6</th>\n",
       "      <td>DAWN</td>\n",
       "      <td>745</td>\n",
       "    </tr>\n",
       "    <tr>\n",
       "      <th>7</th>\n",
       "      <td>OTHER</td>\n",
       "      <td>694</td>\n",
       "    </tr>\n",
       "  </tbody>\n",
       "</table>\n",
       "</div>"
      ],
      "text/plain": [
       "                                      index  lighting\n",
       "0                                  DAYLIGHT    133346\n",
       "1                  DARK - CONTINUOUS STREET     32438\n",
       "2  DARK - STREET LIGHT AT INTERSECTION ONLY      4005\n",
       "3                          DARK - NO STREET      2636\n",
       "4                                      DUSK      1641\n",
       "5                                   UNKNOWN      1614\n",
       "6                                      DAWN       745\n",
       "7                                     OTHER       694"
      ]
     },
     "execution_count": 12,
     "metadata": {},
     "output_type": "execute_result"
    }
   ],
   "source": [
    "df_l = df.lighting.value_counts().reset_index()\n",
    "df_l"
   ]
  },
  {
   "cell_type": "code",
   "execution_count": null,
   "metadata": {},
   "outputs": [
    {
     "data": {
      "text/plain": [
       "[Text(0.5, 0, 'year'), Text(0, 0.5, 'count ')]"
      ]
     },
     "execution_count": 13,
     "metadata": {},
     "output_type": "execute_result"
    },
    {
     "data": {
      "image/png": "[encoded data removed]",
      "text/plain": [
       "<Figure size 1080x360 with 1 Axes>"
      ]
     },
     "metadata": {},
     "output_type": "display_data"
    }
   ],
   "source": [
    "fig,ax =plt.subplots(figsize = (15,5))\n",
    "ax.axvline(df_l.lighting.mean(), color='red', linestyle='-')\n",
    "sns.barplot(data = df_l, x=  df_l[\"lighting\"], y= df_l[\"index\"])\n",
    "ax.set(xlabel =\"year\", ylabel= \"count \")"
   ]
  },
  {
   "cell_type": "markdown",
   "metadata": {},
   "source": [
    "# How many often is crash recorded daily ?"
   ]
  },
  {
   "cell_type": "code",
   "execution_count": null,
   "metadata": {},
   "outputs": [],
   "source": []
  }
 ],
 "metadata": {
  "kernelspec": {
   "display_name": "Python 3.9.12 ('ML')",
   "language": "python",
   "name": "python3"
  },
  "language_info": {
   "codemirror_mode": {
    "name": "ipython",
    "version": 3
   },
   "file_extension": ".py",
   "mimetype": "text/x-python",
   "name": "python",
   "nbconvert_exporter": "python",
   "pygments_lexer": "ipython3",
   "version": "3.9.12"
  },
  "orig_nbformat": 4,
  "vscode": {
   "interpreter": {
    "hash": "686cb14c4d1b9c10293961ee2915b43d0c34036735ac88ced71396191e257b28"
   }
  }
 },
 "nbformat": 4,
 "nbformat_minor": 2
}
